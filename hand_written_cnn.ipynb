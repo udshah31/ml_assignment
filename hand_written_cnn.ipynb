{
  "nbformat": 4,
  "nbformat_minor": 0,
  "metadata": {
    "colab": {
      "provenance": [],
      "mount_file_id": "1UFPN0GbzOBTKfFTMoOFbx8nfUDYem-G1",
      "authorship_tag": "ABX9TyNnQZ/L86P7TM/e+mq4Cx6J",
      "include_colab_link": true
    },
    "kernelspec": {
      "name": "python3",
      "display_name": "Python 3"
    },
    "language_info": {
      "name": "python"
    }
  },
  "cells": [
    {
      "cell_type": "markdown",
      "metadata": {
        "id": "view-in-github",
        "colab_type": "text"
      },
      "source": [
        "<a href=\"https://colab.research.google.com/github/udshah31/ml_assignment/blob/main/hand_written_cnn.ipynb\" target=\"_parent\"><img src=\"https://colab.research.google.com/assets/colab-badge.svg\" alt=\"Open In Colab\"/></a>"
      ]
    },
    {
      "cell_type": "markdown",
      "source": [
        "# CNN Implementation for MNIST Digit Recognition"
      ],
      "metadata": {
        "id": "eJbzbV7O_Ov8"
      }
    },
    {
      "cell_type": "code",
      "execution_count": null,
      "metadata": {
        "id": "zZ9TgipS7ZKm"
      },
      "outputs": [],
      "source": [
        "# import libraries\n",
        "import numpy as np\n",
        "import pandas as pd\n",
        "import tensorflow as tf\n",
        "import matplotlib.pyplot as plt\n",
        "from sklearn.model_selection import train_test_split, KFold\n",
        "from sklearn.metrics import confusion_matrix\n",
        "from tensorflow.keras.models import Sequential\n",
        "from tensorflow.keras.layers import Conv2D, MaxPooling2D, Flatten, Dense\n",
        "from tensorflow.keras.utils import to_categorical\n"
      ]
    },
    {
      "cell_type": "code",
      "source": [
        "from google.colab import drive\n",
        "drive.mount('/content/drive')"
      ],
      "metadata": {
        "colab": {
          "base_uri": "https://localhost:8080/"
        },
        "id": "wL9p7COl8OUa",
        "outputId": "eb8376d5-101f-4534-8983-067d34fd22e5"
      },
      "execution_count": null,
      "outputs": [
        {
          "output_type": "stream",
          "name": "stdout",
          "text": [
            "Drive already mounted at /content/drive; to attempt to forcibly remount, call drive.mount(\"/content/drive\", force_remount=True).\n"
          ]
        }
      ]
    },
    {
      "cell_type": "code",
      "source": [
        "url = \"/content/drive/MyDrive/optdigits.tra\"\n",
        "mnist_data = pd.read_csv(url, header=None)"
      ],
      "metadata": {
        "id": "6AJtUTec8DaJ"
      },
      "execution_count": null,
      "outputs": []
    },
    {
      "cell_type": "markdown",
      "source": [
        "# Data prepration"
      ],
      "metadata": {
        "id": "NAo2pN4R_Y43"
      }
    },
    {
      "cell_type": "code",
      "source": [
        "# checking for missing values\n",
        "print(mnist_data.isnull().sum())"
      ],
      "metadata": {
        "colab": {
          "base_uri": "https://localhost:8080/"
        },
        "id": "ut-BSfUy_IU8",
        "outputId": "e996b89e-4a02-4f86-b4a7-53b555108a18"
      },
      "execution_count": null,
      "outputs": [
        {
          "output_type": "stream",
          "name": "stdout",
          "text": [
            "0     0\n",
            "1     0\n",
            "2     0\n",
            "3     0\n",
            "4     0\n",
            "     ..\n",
            "60    0\n",
            "61    0\n",
            "62    0\n",
            "63    0\n",
            "64    0\n",
            "Length: 65, dtype: int64\n"
          ]
        }
      ]
    },
    {
      "cell_type": "code",
      "source": [
        "# Seprate the features and labels too\n",
        "X = mnist_data.iloc[:,:-1].values\n",
        "y = mnist_data.iloc[:, -1].values"
      ],
      "metadata": {
        "id": "q2odseb5_ch_"
      },
      "execution_count": null,
      "outputs": []
    },
    {
      "cell_type": "code",
      "source": [
        "# reshaping the features into 8x8 images\n",
        "X = X.reshape(-1, 8, 8, 1)"
      ],
      "metadata": {
        "id": "m2caIS5i_jLL"
      },
      "execution_count": null,
      "outputs": []
    },
    {
      "cell_type": "code",
      "source": [
        "# Normalize the fetures into pixel values\n",
        "X = X / 16.0"
      ],
      "metadata": {
        "id": "qEWXd0Gn_nDZ"
      },
      "execution_count": null,
      "outputs": []
    },
    {
      "cell_type": "code",
      "source": [
        "# encode the labels\n",
        "y = to_categorical(y, num_classes = 10)"
      ],
      "metadata": {
        "id": "Y0_QSKBD_rOE"
      },
      "execution_count": null,
      "outputs": []
    },
    {
      "cell_type": "code",
      "source": [
        "# Split the data into training and test sets\n",
        "X_train, X_test, y_train, y_test = train_test_split(X, y, test_size=0.2, random_state=42)"
      ],
      "metadata": {
        "id": "LfzvbbXZ_t-A"
      },
      "execution_count": null,
      "outputs": []
    },
    {
      "cell_type": "code",
      "source": [
        "# Using CNN architecture\n",
        "\n",
        "model = Sequential([\n",
        "    # 32 filters of size 3x3, ReLU activation\n",
        "    Conv2D(32, (3, 3), activation='relu', padding='same', input_shape=(8, 8, 1)),\n",
        "     # Max pooling with pool size 2x2\n",
        "    MaxPooling2D(pool_size=(2, 2)),\n",
        "    # 64 filters of size 3x3, ReLU activation\n",
        "    Conv2D(64, (3, 3), activation='relu',padding='same'),\n",
        "    # Max pooling with pool size 2x2\n",
        "    MaxPooling2D(pool_size=(2, 2)),\n",
        "     # Flatten the output for fully connected layers\n",
        "    Flatten(),\n",
        "    # Fully connected layer with 128 neurons, ReLU activation\n",
        "    Dense(128, activation='relu'),\n",
        "    # Output layer with 10 neurons for classification, softmax activation\n",
        "    Dense(10, activation='softmax')\n",
        "])"
      ],
      "metadata": {
        "id": "rojMfvyq_w9m"
      },
      "execution_count": null,
      "outputs": []
    },
    {
      "cell_type": "code",
      "source": [
        "# compile the model with existing paramaters\n",
        "model.compile(optimizer='adam', loss='categorical_crossentropy', metrics=['accuracy'])"
      ],
      "metadata": {
        "id": "i1fV7IOr_zue"
      },
      "execution_count": null,
      "outputs": []
    },
    {
      "cell_type": "code",
      "source": [
        "# now train the model\n",
        "history = model.fit(X_train, y_train, epochs=5, batch_size=32, validation_split=0.2)"
      ],
      "metadata": {
        "colab": {
          "base_uri": "https://localhost:8080/"
        },
        "id": "XDF4Lbu9_2LN",
        "outputId": "7769393a-960a-496e-d5a8-632245aa6e2c"
      },
      "execution_count": null,
      "outputs": [
        {
          "output_type": "stream",
          "name": "stdout",
          "text": [
            "Epoch 1/5\n",
            "77/77 [==============================] - 3s 19ms/step - loss: 1.5876 - accuracy: 0.5854 - val_loss: 0.4682 - val_accuracy: 0.9134\n",
            "Epoch 2/5\n",
            "77/77 [==============================] - 1s 7ms/step - loss: 0.3146 - accuracy: 0.9125 - val_loss: 0.1833 - val_accuracy: 0.9477\n",
            "Epoch 3/5\n",
            "77/77 [==============================] - 1s 7ms/step - loss: 0.1730 - accuracy: 0.9513 - val_loss: 0.1377 - val_accuracy: 0.9575\n",
            "Epoch 4/5\n",
            "77/77 [==============================] - 1s 7ms/step - loss: 0.1246 - accuracy: 0.9652 - val_loss: 0.0842 - val_accuracy: 0.9804\n",
            "Epoch 5/5\n",
            "77/77 [==============================] - 1s 7ms/step - loss: 0.1005 - accuracy: 0.9730 - val_loss: 0.0830 - val_accuracy: 0.9804\n"
          ]
        }
      ]
    },
    {
      "cell_type": "code",
      "source": [
        "# Evaluate the model\n",
        "test_loss, test_acc = model.evaluate(X_test, y_test)\n",
        "print(\"Test Accuracy:\", test_acc)"
      ],
      "metadata": {
        "colab": {
          "base_uri": "https://localhost:8080/"
        },
        "id": "4X079UlP_5lu",
        "outputId": "9746c48a-8194-4083-a4f5-230d0dc65d7a"
      },
      "execution_count": null,
      "outputs": [
        {
          "output_type": "stream",
          "name": "stdout",
          "text": [
            "24/24 [==============================] - 0s 3ms/step - loss: 0.1025 - accuracy: 0.9686\n",
            "Test Accuracy: 0.9686274528503418\n"
          ]
        }
      ]
    },
    {
      "cell_type": "code",
      "source": [
        "# predict the model\n",
        "y_pred = model.predict(X_test)\n",
        "y_pred_classes = np.argmax(y_pred, axis=1)"
      ],
      "metadata": {
        "colab": {
          "base_uri": "https://localhost:8080/"
        },
        "id": "PfEWv3kE_8NZ",
        "outputId": "f6a4a626-7b72-48b5-b203-bb4df66a0f6e"
      },
      "execution_count": null,
      "outputs": [
        {
          "output_type": "stream",
          "name": "stdout",
          "text": [
            "24/24 [==============================] - 0s 3ms/step\n"
          ]
        }
      ]
    },
    {
      "cell_type": "code",
      "source": [
        "# draw the confusion matrix\n",
        "confusion_matrix = confusion_matrix(np.argmax(y_test, axis=1), y_pred_classes)\n",
        "print(confusion_matrix)"
      ],
      "metadata": {
        "colab": {
          "base_uri": "https://localhost:8080/"
        },
        "id": "-GIZWUqW__DN",
        "outputId": "b7d50f9a-cfa7-46f8-c3c8-738dfdbbaad9"
      },
      "execution_count": null,
      "outputs": [
        {
          "output_type": "stream",
          "name": "stdout",
          "text": [
            "[[61  0  0  0  0  0  0  0  0  0]\n",
            " [ 0 82  0  0  0  0  0  0  0  1]\n",
            " [ 0  1 82  0  0  0  1  0  0  0]\n",
            " [ 0  1  0 92  0  1  0  0  0  2]\n",
            " [ 0  1  0  0 60  0  0  0  0  0]\n",
            " [ 0  0  1  0  0 66  0  0  0  2]\n",
            " [ 0  0  0  0  0  0 70  0  0  0]\n",
            " [ 0  1  0  0  0  0  0 95  0  0]\n",
            " [ 0  6  0  1  0  0  0  0 59  0]\n",
            " [ 0  2  0  1  2  0  0  0  0 74]]\n"
          ]
        }
      ]
    },
    {
      "cell_type": "code",
      "source": [
        "# Define k-fold cross-validation\n",
        "kfold = KFold(n_splits=5, shuffle=True, random_state=42)\n",
        "fold_accuracy = []\n",
        "# enumerate splits\n",
        "for train, val in kfold.split(X_train, y_train):\n",
        "    train_X, val_X = X_train[train], X_train[val]\n",
        "    train_y, val_y = y_train[train], y_train[val]\n",
        "    model.fit(train_X, train_y, epochs=5, batch_size=32, validation_data=(val_X, val_y))\n",
        "    _, acc = model.evaluate(val_X, val_y)\n",
        "    fold_accuracy.append(acc)\n",
        "print(\"K-Fold:\", np.mean(fold_accuracy))"
      ],
      "metadata": {
        "colab": {
          "base_uri": "https://localhost:8080/"
        },
        "id": "gCGzW4h-ABuh",
        "outputId": "bd8a6f53-ceb9-4910-97c4-5039f2dc9093"
      },
      "execution_count": null,
      "outputs": [
        {
          "output_type": "stream",
          "name": "stdout",
          "text": [
            "Epoch 1/5\n",
            "77/77 [==============================] - 1s 8ms/step - loss: 0.0815 - accuracy: 0.9791 - val_loss: 0.0846 - val_accuracy: 0.9755\n",
            "Epoch 2/5\n",
            "77/77 [==============================] - 1s 8ms/step - loss: 0.0609 - accuracy: 0.9841 - val_loss: 0.0886 - val_accuracy: 0.9739\n",
            "Epoch 3/5\n",
            "77/77 [==============================] - 1s 7ms/step - loss: 0.0508 - accuracy: 0.9873 - val_loss: 0.0881 - val_accuracy: 0.9755\n",
            "Epoch 4/5\n",
            "77/77 [==============================] - 1s 7ms/step - loss: 0.0492 - accuracy: 0.9873 - val_loss: 0.0887 - val_accuracy: 0.9690\n",
            "Epoch 5/5\n",
            "77/77 [==============================] - 1s 7ms/step - loss: 0.0440 - accuracy: 0.9881 - val_loss: 0.0803 - val_accuracy: 0.9788\n",
            "20/20 [==============================] - 0s 3ms/step - loss: 0.0803 - accuracy: 0.9788\n",
            "Epoch 1/5\n",
            "77/77 [==============================] - 1s 7ms/step - loss: 0.0440 - accuracy: 0.9877 - val_loss: 0.0520 - val_accuracy: 0.9837\n",
            "Epoch 2/5\n",
            "77/77 [==============================] - 1s 10ms/step - loss: 0.0395 - accuracy: 0.9894 - val_loss: 0.0379 - val_accuracy: 0.9902\n",
            "Epoch 3/5\n",
            "77/77 [==============================] - 1s 12ms/step - loss: 0.0402 - accuracy: 0.9873 - val_loss: 0.0492 - val_accuracy: 0.9788\n",
            "Epoch 4/5\n",
            "77/77 [==============================] - 1s 11ms/step - loss: 0.0249 - accuracy: 0.9935 - val_loss: 0.0456 - val_accuracy: 0.9853\n",
            "Epoch 5/5\n",
            "77/77 [==============================] - 1s 12ms/step - loss: 0.0202 - accuracy: 0.9939 - val_loss: 0.0368 - val_accuracy: 0.9902\n",
            "20/20 [==============================] - 0s 3ms/step - loss: 0.0368 - accuracy: 0.9902\n",
            "Epoch 1/5\n",
            "77/77 [==============================] - 1s 7ms/step - loss: 0.0327 - accuracy: 0.9914 - val_loss: 0.0320 - val_accuracy: 0.9886\n",
            "Epoch 2/5\n",
            "77/77 [==============================] - 1s 7ms/step - loss: 0.0287 - accuracy: 0.9914 - val_loss: 0.0192 - val_accuracy: 0.9951\n",
            "Epoch 3/5\n",
            "77/77 [==============================] - 1s 7ms/step - loss: 0.0170 - accuracy: 0.9947 - val_loss: 0.0186 - val_accuracy: 0.9935\n",
            "Epoch 4/5\n",
            "77/77 [==============================] - 1s 7ms/step - loss: 0.0170 - accuracy: 0.9951 - val_loss: 0.0149 - val_accuracy: 0.9951\n",
            "Epoch 5/5\n",
            "77/77 [==============================] - 1s 7ms/step - loss: 0.0198 - accuracy: 0.9955 - val_loss: 0.0255 - val_accuracy: 0.9935\n",
            "20/20 [==============================] - 0s 3ms/step - loss: 0.0255 - accuracy: 0.9935\n",
            "Epoch 1/5\n",
            "77/77 [==============================] - 1s 10ms/step - loss: 0.0183 - accuracy: 0.9955 - val_loss: 0.0081 - val_accuracy: 0.9984\n",
            "Epoch 2/5\n",
            "77/77 [==============================] - 0s 6ms/step - loss: 0.0116 - accuracy: 0.9975 - val_loss: 0.0067 - val_accuracy: 1.0000\n",
            "Epoch 3/5\n",
            "77/77 [==============================] - 1s 7ms/step - loss: 0.0081 - accuracy: 0.9975 - val_loss: 0.0072 - val_accuracy: 0.9984\n",
            "Epoch 4/5\n",
            "77/77 [==============================] - 1s 7ms/step - loss: 0.0050 - accuracy: 1.0000 - val_loss: 0.0053 - val_accuracy: 1.0000\n",
            "Epoch 5/5\n",
            "77/77 [==============================] - 1s 7ms/step - loss: 0.0042 - accuracy: 1.0000 - val_loss: 0.0069 - val_accuracy: 0.9984\n",
            "20/20 [==============================] - 0s 3ms/step - loss: 0.0069 - accuracy: 0.9984\n",
            "Epoch 1/5\n",
            "77/77 [==============================] - 1s 7ms/step - loss: 0.0034 - accuracy: 0.9996 - val_loss: 0.0037 - val_accuracy: 1.0000\n",
            "Epoch 2/5\n",
            "77/77 [==============================] - 1s 10ms/step - loss: 0.0025 - accuracy: 1.0000 - val_loss: 0.0050 - val_accuracy: 0.9984\n",
            "Epoch 3/5\n",
            "77/77 [==============================] - 1s 11ms/step - loss: 0.0048 - accuracy: 0.9988 - val_loss: 0.0445 - val_accuracy: 0.9885\n",
            "Epoch 4/5\n",
            "77/77 [==============================] - 1s 11ms/step - loss: 0.0054 - accuracy: 0.9988 - val_loss: 0.0039 - val_accuracy: 1.0000\n",
            "Epoch 5/5\n",
            "77/77 [==============================] - 1s 11ms/step - loss: 0.0040 - accuracy: 0.9992 - val_loss: 0.0039 - val_accuracy: 1.0000\n",
            "20/20 [==============================] - 0s 3ms/step - loss: 0.0039 - accuracy: 1.0000\n",
            "K-Fold: 0.9921563148498536\n"
          ]
        }
      ]
    },
    {
      "cell_type": "code",
      "source": [
        "# Plot training and validation loss\n",
        "plt.subplot(2, 1, 1)\n",
        "plt.plot(history.history['loss'], label='Training Loss')\n",
        "plt.plot(history.history['val_loss'], label='Validation Loss')\n",
        "plt.title('Training and Validation Loss')\n",
        "plt.xlabel('Epoch')\n",
        "plt.ylabel('Loss')\n",
        "plt.legend()\n",
        "plt.show()"
      ],
      "metadata": {
        "colab": {
          "base_uri": "https://localhost:8080/",
          "height": 270
        },
        "id": "ECwUdN7cAJZk",
        "outputId": "199cbf4e-e7c4-45ff-cea2-358c02aefbff"
      },
      "execution_count": null,
      "outputs": [
        {
          "output_type": "display_data",
          "data": {
            "text/plain": [
              "<Figure size 640x480 with 1 Axes>"
            ],
            "image/png": "[encoded data removed]"
          },
          "metadata": {}
        }
      ]
    },
    {
      "cell_type": "code",
      "source": [
        "# Plot training and validation accuracy\n",
        "plt.subplot(2, 1, 2)\n",
        "plt.plot(history.history['accuracy'], label='Training Accuracy')\n",
        "plt.plot(history.history['val_accuracy'], label='Validation Accuracy')\n",
        "plt.title('Training and Validation Accuracy')\n",
        "plt.xlabel('Epoch')\n",
        "plt.ylabel('Accuracy')\n",
        "plt.legend()\n",
        "plt.show()"
      ],
      "metadata": {
        "colab": {
          "base_uri": "https://localhost:8080/",
          "height": 270
        },
        "id": "TC8tApYsAMWg",
        "outputId": "15c51d31-c60e-4294-dc10-806d541c316e"
      },
      "execution_count": null,
      "outputs": [
        {
          "output_type": "display_data",
          "data": {
            "text/plain": [
              "<Figure size 640x480 with 1 Axes>"
            ],
            "image/png": "[encoded data removed]"
          },
          "metadata": {}
        }
      ]
    },
    {
      "cell_type": "code",
      "source": [
        "# Summarize model performance\n",
        "print('Accuracy: mean=%.3f std=%.3f, n=%d' % (np.mean(fold_accuracy)*100, np.std(fold_accuracy)*100, len(fold_accuracy)))\n",
        "\n",
        "# Box and whisker plot of results\n",
        "plt.boxplot(fold_accuracy)\n",
        "plt.title('K-Fold Cross-Validation Accuracy')\n",
        "plt.ylabel('Accuracy')\n",
        "plt.show()"
      ],
      "metadata": {
        "id": "1juhiPRlAPPj",
        "outputId": "fef9fcee-1653-45e0-d602-4df317e19c93",
        "colab": {
          "base_uri": "https://localhost:8080/",
          "height": 469
        }
      },
      "execution_count": null,
      "outputs": [
        {
          "output_type": "stream",
          "name": "stdout",
          "text": [
            "Accuracy: mean=99.216 std=0.755, n=5\n"
          ]
        },
        {
          "output_type": "display_data",
          "data": {
            "text/plain": [
              "<Figure size 640x480 with 1 Axes>"
            ],
            "image/png": "[encoded data removed]"
          },
          "metadata": {}
        }
      ]
    }
  ]
}